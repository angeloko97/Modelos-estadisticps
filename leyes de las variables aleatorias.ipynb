{
 "cells": [
  {
   "cell_type": "markdown",
   "id": "6e3cd22e",
   "metadata": {},
   "source": [
    "## Ejercicios \n",
    "\n",
    "1.   Documenta tu colab\n",
    "2.   Calcular la ley de las siguientes variables aleatorias\n",
    "     *   La diferencia de las caras es mayor que 1\n",
    "     *   La suma de las caras sea par\n",
    "3. Verifica en cada caso, que\n",
    "   $$\\sum_{k\\in R_{X}}\\mathbb{P}(X=k) = 1$$\n",
    "4. Gráfica y calcula la función de distribución de la v.a. S (la suma de los resultados es n)  \n",
    "     Aquí pueden utilizar Python (para los que ya tengan conocimiento previo de matplotlib) o dibujado a mano / tablet /etc\n",
    "5. Sube tu notebook a GitHub"
   ]
  },
  {
   "cell_type": "markdown",
   "id": "898271f1",
   "metadata": {},
   "source": [
    "---"
   ]
  },
  {
   "cell_type": "markdown",
   "id": "75b60634",
   "metadata": {},
   "source": [
    "### Se cargan las librerias a utilizar"
   ]
  },
  {
   "cell_type": "code",
   "execution_count": 1,
   "id": "b516dced",
   "metadata": {},
   "outputs": [],
   "source": [
    "from itertools import product #para el producto cartesiano\n",
    "from fractions import Fraction\n",
    "from collections import defaultdict\n",
    "import pandas as pd\n",
    "import numpy as np\n",
    "import scipy.stats as ss\n",
    "import matplotlib.pyplot as plt\n",
    "import seaborn as sns"
   ]
  },
  {
   "cell_type": "markdown",
   "id": "4b1fadea",
   "metadata": {},
   "source": [
    "### Se crea el espacio muestral Omega"
   ]
  },
  {
   "cell_type": "code",
   "execution_count": 2,
   "id": "aed9bb55",
   "metadata": {},
   "outputs": [],
   "source": [
    "def P(A, Omega):\n",
    "    P = Fraction(len(A),len(Omega))\n",
    "    return P"
   ]
  },
  {
   "cell_type": "code",
   "execution_count": 3,
   "id": "88f17e1c",
   "metadata": {
    "scrolled": true
   },
   "outputs": [
    {
     "data": {
      "text/plain": [
       "{(1, 1),\n",
       " (1, 2),\n",
       " (1, 3),\n",
       " (1, 4),\n",
       " (1, 5),\n",
       " (1, 6),\n",
       " (2, 1),\n",
       " (2, 2),\n",
       " (2, 3),\n",
       " (2, 4),\n",
       " (2, 5),\n",
       " (2, 6),\n",
       " (3, 1),\n",
       " (3, 2),\n",
       " (3, 3),\n",
       " (3, 4),\n",
       " (3, 5),\n",
       " (3, 6),\n",
       " (4, 1),\n",
       " (4, 2),\n",
       " (4, 3),\n",
       " (4, 4),\n",
       " (4, 5),\n",
       " (4, 6),\n",
       " (5, 1),\n",
       " (5, 2),\n",
       " (5, 3),\n",
       " (5, 4),\n",
       " (5, 5),\n",
       " (5, 6),\n",
       " (6, 1),\n",
       " (6, 2),\n",
       " (6, 3),\n",
       " (6, 4),\n",
       " (6, 5),\n",
       " (6, 6)}"
      ]
     },
     "execution_count": 3,
     "metadata": {},
     "output_type": "execute_result"
    }
   ],
   "source": [
    "#Primero vamos a crear a nuestro espacio muestral Omega\n",
    "L = [i for i in range(1,7)] #Lista por comprensión\n",
    "#print(L)\n",
    "Omega = set(product(L, repeat=2))\n",
    "Omega"
   ]
  },
  {
   "cell_type": "markdown",
   "id": "c1224acb",
   "metadata": {},
   "source": [
    "----"
   ]
  },
  {
   "cell_type": "markdown",
   "id": "ffd8deb1",
   "metadata": {},
   "source": [
    "## Calcular la ley de las siguientes variables aleatorias\n",
    "## La diferencia de las caras es mayor que 1"
   ]
  },
  {
   "cell_type": "code",
   "execution_count": 4,
   "id": "0aa22f14",
   "metadata": {},
   "outputs": [],
   "source": [
    "# Se crea el set del experimento a realizar\n",
    "S_mayor_1 = defaultdict(set)"
   ]
  },
  {
   "cell_type": "code",
   "execution_count": 5,
   "id": "d00ac1ed",
   "metadata": {},
   "outputs": [],
   "source": [
    "S_mayor_1 = {(i,j): i-j for i,j in Omega if i-j > 1}"
   ]
  },
  {
   "cell_type": "code",
   "execution_count": 6,
   "id": "07d203ec",
   "metadata": {},
   "outputs": [
    {
     "data": {
      "text/plain": [
       "{(3, 1): 2,\n",
       " (5, 1): 4,\n",
       " (6, 2): 4,\n",
       " (4, 2): 2,\n",
       " (5, 3): 2,\n",
       " (6, 1): 5,\n",
       " (6, 4): 2,\n",
       " (4, 1): 3,\n",
       " (5, 2): 3,\n",
       " (6, 3): 3}"
      ]
     },
     "execution_count": 6,
     "metadata": {},
     "output_type": "execute_result"
    }
   ],
   "source": [
    "# Elementos de Omega que cumplen con la condicion\n",
    "S_mayor_1"
   ]
  },
  {
   "cell_type": "code",
   "execution_count": 7,
   "id": "9f6b9866",
   "metadata": {},
   "outputs": [
    {
     "data": {
      "text/plain": [
       "defaultdict(set, {})"
      ]
     },
     "execution_count": 7,
     "metadata": {},
     "output_type": "execute_result"
    }
   ],
   "source": [
    "#Vamos a crear un diccionario por default de manera sintetica y arreglada\n",
    "dS_mayor_1 = defaultdict(set) #lista\n",
    "dS_mayor_1"
   ]
  },
  {
   "cell_type": "code",
   "execution_count": 8,
   "id": "9f3afd07",
   "metadata": {},
   "outputs": [
    {
     "data": {
      "text/plain": [
       "defaultdict(set,\n",
       "            {2: {(3, 1), (4, 2), (5, 3), (6, 4)},\n",
       "             4: {(5, 1), (6, 2)},\n",
       "             5: {(6, 1)},\n",
       "             3: {(4, 1), (5, 2), (6, 3)}})"
      ]
     },
     "execution_count": 8,
     "metadata": {},
     "output_type": "execute_result"
    }
   ],
   "source": [
    "for i,j in S_mayor_1.items():\n",
    "    dS_mayor_1[j].add(i) #añadiendo al diccionario las llaves\n",
    "dS_mayor_1"
   ]
  },
  {
   "cell_type": "code",
   "execution_count": 9,
   "id": "a4037afd",
   "metadata": {},
   "outputs": [],
   "source": [
    "leyS_mayor_1 = defaultdict(set)"
   ]
  },
  {
   "cell_type": "code",
   "execution_count": 10,
   "id": "248c75db",
   "metadata": {},
   "outputs": [],
   "source": [
    "leyS_mayor_1 = {k : P(A,S_mayor_1) for k,A in dS_mayor_1.items() }"
   ]
  },
  {
   "cell_type": "code",
   "execution_count": 11,
   "id": "6677f5d4",
   "metadata": {},
   "outputs": [
    {
     "name": "stdout",
     "output_type": "stream",
     "text": [
      "2/5 , si k = 2\n",
      "1/5 , si k = 4\n",
      "1/10 , si k = 5\n",
      "3/10 , si k = 3\n"
     ]
    }
   ],
   "source": [
    "# Se imprimen la probabilidad del experimeneto\n",
    "for i in leyS_mayor_1:\n",
    "    print(leyS_mayor_1[i],', si k =',i)"
   ]
  },
  {
   "cell_type": "markdown",
   "id": "4892d9b5",
   "metadata": {},
   "source": [
    "---"
   ]
  },
  {
   "cell_type": "markdown",
   "id": "54d4c41a",
   "metadata": {},
   "source": [
    "Verifica que:\n",
    "   $$\\sum_{k\\in R_{X}}\\mathbb{P}(X=k) = 1$$"
   ]
  },
  {
   "cell_type": "code",
   "execution_count": 12,
   "id": "1bbee9a4",
   "metadata": {
    "scrolled": true
   },
   "outputs": [
    {
     "data": {
      "text/plain": [
       "1.0"
      ]
     },
     "execution_count": 12,
     "metadata": {},
     "output_type": "execute_result"
    }
   ],
   "source": [
    "# Se verifica que la suma es 1\n",
    "(2/5)+(1/5)+(1/10)+(3/10)"
   ]
  },
  {
   "cell_type": "code",
   "execution_count": 13,
   "id": "94be7b40",
   "metadata": {},
   "outputs": [
    {
     "name": "stdout",
     "output_type": "stream",
     "text": [
      "1.0\n"
     ]
    }
   ],
   "source": [
    "# Se verifica que la suma es 1\n",
    "y_ley_lista = []\n",
    "x_ley_lista = []\n",
    "suma = 0\n",
    "for i in leyS_mayor_1:\n",
    "    suma = suma + float(leyS_mayor_1[i])\n",
    "    y_ley_lista.append(float(leyS_mayor_1[i]))\n",
    "    x_ley_lista.append(i)\n",
    "print(suma)"
   ]
  },
  {
   "cell_type": "markdown",
   "id": "cc67f139",
   "metadata": {},
   "source": [
    "---"
   ]
  },
  {
   "cell_type": "markdown",
   "id": "52a7553b",
   "metadata": {},
   "source": [
    "### Gráfica y calcula la función de distribución de la v.a. S (la suma de los resultados es n)"
   ]
  },
  {
   "cell_type": "code",
   "execution_count": 14,
   "id": "9bd41b38",
   "metadata": {
    "scrolled": true
   },
   "outputs": [
    {
     "data": {
      "text/plain": [
       "[0.4, 0.2, 0.1, 0.3]"
      ]
     },
     "execution_count": 14,
     "metadata": {},
     "output_type": "execute_result"
    }
   ],
   "source": [
    "y_ley_lista"
   ]
  },
  {
   "cell_type": "code",
   "execution_count": 15,
   "id": "5149e8ac",
   "metadata": {},
   "outputs": [
    {
     "data": {
      "text/plain": [
       "[2, 4, 5, 3]"
      ]
     },
     "execution_count": 15,
     "metadata": {},
     "output_type": "execute_result"
    }
   ],
   "source": [
    "x_ley_lista"
   ]
  },
  {
   "cell_type": "code",
   "execution_count": 16,
   "id": "cd7e09ee",
   "metadata": {},
   "outputs": [
    {
     "data": {
      "image/png": "[encoded data removed]",
      "text/plain": [
       "<Figure size 640x480 with 1 Axes>"
      ]
     },
     "metadata": {},
     "output_type": "display_data"
    }
   ],
   "source": [
    "# Grafiar distribución\n",
    "y = y_ley_lista\n",
    "x = x_ley_lista\n",
    "plt.plot(x,y,\"bo\")\n",
    "plt.vlines(x,0,y,\"g\")\n",
    "plt.title(\"Distribución Diferencia de las caras dos dados es mayor que 1\")\n",
    "plt.ylabel(\"Probabilidad\")\n",
    "plt.xlabel(\"Diferencia de las caras\")\n",
    "plt.xticks(range(2, 6, 1))\n",
    "plt.show()"
   ]
  },
  {
   "cell_type": "markdown",
   "id": "e164cf12",
   "metadata": {},
   "source": [
    "---"
   ]
  },
  {
   "cell_type": "code",
   "execution_count": 17,
   "id": "895a0916",
   "metadata": {},
   "outputs": [
    {
     "data": {
      "text/html": [
       "<div>\n",
       "<style scoped>\n",
       "    .dataframe tbody tr th:only-of-type {\n",
       "        vertical-align: middle;\n",
       "    }\n",
       "\n",
       "    .dataframe tbody tr th {\n",
       "        vertical-align: top;\n",
       "    }\n",
       "\n",
       "    .dataframe thead th {\n",
       "        text-align: right;\n",
       "    }\n",
       "</style>\n",
       "<table border=\"1\" class=\"dataframe\">\n",
       "  <thead>\n",
       "    <tr style=\"text-align: right;\">\n",
       "      <th></th>\n",
       "      <th>Diferencia</th>\n",
       "      <th>Probabilidad</th>\n",
       "    </tr>\n",
       "  </thead>\n",
       "  <tbody>\n",
       "    <tr>\n",
       "      <th>0</th>\n",
       "      <td>2</td>\n",
       "      <td>0.4</td>\n",
       "    </tr>\n",
       "    <tr>\n",
       "      <th>3</th>\n",
       "      <td>3</td>\n",
       "      <td>0.3</td>\n",
       "    </tr>\n",
       "    <tr>\n",
       "      <th>1</th>\n",
       "      <td>4</td>\n",
       "      <td>0.2</td>\n",
       "    </tr>\n",
       "    <tr>\n",
       "      <th>2</th>\n",
       "      <td>5</td>\n",
       "      <td>0.1</td>\n",
       "    </tr>\n",
       "  </tbody>\n",
       "</table>\n",
       "</div>"
      ],
      "text/plain": [
       "   Diferencia  Probabilidad\n",
       "0           2           0.4\n",
       "3           3           0.3\n",
       "1           4           0.2\n",
       "2           5           0.1"
      ]
     },
     "execution_count": 17,
     "metadata": {},
     "output_type": "execute_result"
    }
   ],
   "source": [
    "df = pd.DataFrame(y_ley_lista,x_ley_lista)\n",
    "df = df.reset_index()\n",
    "df = df.set_axis(['Diferencia', 'Probabilidad'], axis=1)\n",
    "df.sort_values('Diferencia', inplace=True)\n",
    "df"
   ]
  },
  {
   "cell_type": "code",
   "execution_count": 18,
   "id": "5d45b987",
   "metadata": {},
   "outputs": [],
   "source": [
    "# Calculamos la CDF\n",
    "cdf = np.cumsum(df.Probabilidad)"
   ]
  },
  {
   "cell_type": "code",
   "execution_count": 19,
   "id": "c5e2606c",
   "metadata": {
    "scrolled": false
   },
   "outputs": [
    {
     "data": {
      "image/png": "[encoded data removed]",
      "text/plain": [
       "<Figure size 640x480 with 1 Axes>"
      ]
     },
     "metadata": {},
     "output_type": "display_data"
    }
   ],
   "source": [
    "# Plot the CDF\n",
    "plt.step(df.Diferencia, cdf, where='post')\n",
    "plt.xlabel('Diferencia de las caras')\n",
    "plt.ylabel('Cumulative Distribution Function')\n",
    "plt.title('Cumulative Distribution Function (CDF) de Diferencia de las caras')\n",
    "plt.grid(True)\n",
    "plt.show()"
   ]
  },
  {
   "cell_type": "markdown",
   "id": "c70f18a8",
   "metadata": {},
   "source": [
    "----"
   ]
  },
  {
   "cell_type": "markdown",
   "id": "59529f9a",
   "metadata": {},
   "source": [
    "## La suma de las caras sea par"
   ]
  },
  {
   "cell_type": "code",
   "execution_count": 20,
   "id": "11302c62",
   "metadata": {},
   "outputs": [],
   "source": [
    "S_par = defaultdict(set)"
   ]
  },
  {
   "cell_type": "code",
   "execution_count": 21,
   "id": "b8d39230",
   "metadata": {},
   "outputs": [],
   "source": [
    "S_par = {(i,j): i+j for i,j in Omega if (i+j) % 2 ==0}"
   ]
  },
  {
   "cell_type": "code",
   "execution_count": 22,
   "id": "e2dd9832",
   "metadata": {},
   "outputs": [
    {
     "data": {
      "text/plain": [
       "{(3, 1): 4,\n",
       " (4, 6): 10,\n",
       " (5, 1): 6,\n",
       " (2, 2): 4,\n",
       " (1, 3): 4,\n",
       " (6, 2): 8,\n",
       " (4, 2): 6,\n",
       " (3, 3): 6,\n",
       " (5, 3): 8,\n",
       " (2, 4): 6,\n",
       " (1, 5): 6,\n",
       " (6, 4): 10,\n",
       " (3, 5): 8,\n",
       " (4, 4): 8,\n",
       " (5, 5): 10,\n",
       " (1, 1): 2,\n",
       " (2, 6): 8,\n",
       " (6, 6): 12}"
      ]
     },
     "execution_count": 22,
     "metadata": {},
     "output_type": "execute_result"
    }
   ],
   "source": [
    "S_par"
   ]
  },
  {
   "cell_type": "code",
   "execution_count": 23,
   "id": "d61eb54b",
   "metadata": {},
   "outputs": [
    {
     "data": {
      "text/plain": [
       "defaultdict(set, {})"
      ]
     },
     "execution_count": 23,
     "metadata": {},
     "output_type": "execute_result"
    }
   ],
   "source": [
    "#Vamos a crear un diccionario por default de manera sintetica y arreglada\n",
    "dS_par = defaultdict(set) #lista\n",
    "dS_par"
   ]
  },
  {
   "cell_type": "code",
   "execution_count": 24,
   "id": "59ad1210",
   "metadata": {},
   "outputs": [
    {
     "data": {
      "text/plain": [
       "defaultdict(set,\n",
       "            {4: {(1, 3), (2, 2), (3, 1)},\n",
       "             10: {(4, 6), (5, 5), (6, 4)},\n",
       "             6: {(1, 5), (2, 4), (3, 3), (4, 2), (5, 1)},\n",
       "             8: {(2, 6), (3, 5), (4, 4), (5, 3), (6, 2)},\n",
       "             2: {(1, 1)},\n",
       "             12: {(6, 6)}})"
      ]
     },
     "execution_count": 24,
     "metadata": {},
     "output_type": "execute_result"
    }
   ],
   "source": [
    "for i,j in S_par.items():\n",
    "    dS_par[j].add(i) #añadiendo al diccionario las llaves\n",
    "dS_par"
   ]
  },
  {
   "cell_type": "code",
   "execution_count": 25,
   "id": "3bc8c190",
   "metadata": {},
   "outputs": [],
   "source": [
    "leyS_par = defaultdict(set)"
   ]
  },
  {
   "cell_type": "code",
   "execution_count": 26,
   "id": "075a91d1",
   "metadata": {},
   "outputs": [],
   "source": [
    "leyS_par = {k : P(A,S_par) for k,A in dS_par.items() }"
   ]
  },
  {
   "cell_type": "code",
   "execution_count": 27,
   "id": "789001d5",
   "metadata": {},
   "outputs": [
    {
     "name": "stdout",
     "output_type": "stream",
     "text": [
      "1/6 , si k = 4\n",
      "1/6 , si k = 10\n",
      "5/18 , si k = 6\n",
      "5/18 , si k = 8\n",
      "1/18 , si k = 2\n",
      "1/18 , si k = 12\n"
     ]
    }
   ],
   "source": [
    "for i in leyS_par:\n",
    "    print(leyS_par[i],', si k =',i)"
   ]
  },
  {
   "cell_type": "markdown",
   "id": "4827c077",
   "metadata": {},
   "source": [
    "---"
   ]
  },
  {
   "cell_type": "markdown",
   "id": "42868529",
   "metadata": {},
   "source": [
    "Verifica que:\n",
    "   $$\\sum_{k\\in R_{X}}\\mathbb{P}(X=k) = 1$$"
   ]
  },
  {
   "cell_type": "code",
   "execution_count": 28,
   "id": "a9a465bc",
   "metadata": {
    "scrolled": true
   },
   "outputs": [
    {
     "data": {
      "text/plain": [
       "1.0"
      ]
     },
     "execution_count": 28,
     "metadata": {},
     "output_type": "execute_result"
    }
   ],
   "source": [
    "1/6 + 1/6 + 5/18 + 5/18 + 1/18 + 1/18"
   ]
  },
  {
   "cell_type": "code",
   "execution_count": 29,
   "id": "8de7b1af",
   "metadata": {},
   "outputs": [
    {
     "name": "stdout",
     "output_type": "stream",
     "text": [
      "1.0\n"
     ]
    }
   ],
   "source": [
    "# Se verifica que la suma es 1\n",
    "y_ley_lista = []\n",
    "x_ley_lista = []\n",
    "suma = 0\n",
    "for i in leyS_par:\n",
    "    suma = suma + float(leyS_par[i])\n",
    "    y_ley_lista.append(float(leyS_par[i]))\n",
    "    x_ley_lista.append(i)\n",
    "print(suma)"
   ]
  },
  {
   "cell_type": "markdown",
   "id": "6df33168",
   "metadata": {},
   "source": [
    "----"
   ]
  },
  {
   "cell_type": "markdown",
   "id": "1961dc21",
   "metadata": {},
   "source": [
    "### Gráfica y calcula la función de distribución de la v.a. S (la suma de los resultados es n)¶"
   ]
  },
  {
   "cell_type": "code",
   "execution_count": 30,
   "id": "6808b06b",
   "metadata": {
    "scrolled": false
   },
   "outputs": [
    {
     "data": {
      "text/plain": [
       "[0.16666666666666666,\n",
       " 0.16666666666666666,\n",
       " 0.2777777777777778,\n",
       " 0.2777777777777778,\n",
       " 0.05555555555555555,\n",
       " 0.05555555555555555]"
      ]
     },
     "execution_count": 30,
     "metadata": {},
     "output_type": "execute_result"
    }
   ],
   "source": [
    "y_ley_lista"
   ]
  },
  {
   "cell_type": "code",
   "execution_count": 31,
   "id": "285ebd7e",
   "metadata": {},
   "outputs": [
    {
     "data": {
      "text/plain": [
       "[4, 10, 6, 8, 2, 12]"
      ]
     },
     "execution_count": 31,
     "metadata": {},
     "output_type": "execute_result"
    }
   ],
   "source": [
    "x_ley_lista"
   ]
  },
  {
   "cell_type": "code",
   "execution_count": 32,
   "id": "5f2b6573",
   "metadata": {},
   "outputs": [
    {
     "data": {
      "image/png": "[encoded data removed]",
      "text/plain": [
       "<Figure size 640x480 with 1 Axes>"
      ]
     },
     "metadata": {},
     "output_type": "display_data"
    }
   ],
   "source": [
    "# Grafiar distribución\n",
    "y = y_ley_lista\n",
    "x = x_ley_lista\n",
    "plt.plot(x,y,\"bo\")\n",
    "plt.vlines(x,0,y,\"g\")\n",
    "plt.title(\"Distribución Diferencia de suma de las caras sea par\")\n",
    "plt.ylabel(\"Probabilidad\")\n",
    "plt.xlabel(\"Suma de las caras sea par\")\n",
    "plt.xticks([4, 10, 6, 8, 2, 12])\n",
    "plt.show()"
   ]
  },
  {
   "cell_type": "markdown",
   "id": "c47a5de1",
   "metadata": {},
   "source": [
    "---"
   ]
  },
  {
   "cell_type": "code",
   "execution_count": 33,
   "id": "2e34671f",
   "metadata": {},
   "outputs": [
    {
     "data": {
      "text/html": [
       "<div>\n",
       "<style scoped>\n",
       "    .dataframe tbody tr th:only-of-type {\n",
       "        vertical-align: middle;\n",
       "    }\n",
       "\n",
       "    .dataframe tbody tr th {\n",
       "        vertical-align: top;\n",
       "    }\n",
       "\n",
       "    .dataframe thead th {\n",
       "        text-align: right;\n",
       "    }\n",
       "</style>\n",
       "<table border=\"1\" class=\"dataframe\">\n",
       "  <thead>\n",
       "    <tr style=\"text-align: right;\">\n",
       "      <th></th>\n",
       "      <th>Suma</th>\n",
       "      <th>Probabilidad</th>\n",
       "    </tr>\n",
       "  </thead>\n",
       "  <tbody>\n",
       "    <tr>\n",
       "      <th>4</th>\n",
       "      <td>2</td>\n",
       "      <td>0.055556</td>\n",
       "    </tr>\n",
       "    <tr>\n",
       "      <th>0</th>\n",
       "      <td>4</td>\n",
       "      <td>0.166667</td>\n",
       "    </tr>\n",
       "    <tr>\n",
       "      <th>2</th>\n",
       "      <td>6</td>\n",
       "      <td>0.277778</td>\n",
       "    </tr>\n",
       "    <tr>\n",
       "      <th>3</th>\n",
       "      <td>8</td>\n",
       "      <td>0.277778</td>\n",
       "    </tr>\n",
       "    <tr>\n",
       "      <th>1</th>\n",
       "      <td>10</td>\n",
       "      <td>0.166667</td>\n",
       "    </tr>\n",
       "    <tr>\n",
       "      <th>5</th>\n",
       "      <td>12</td>\n",
       "      <td>0.055556</td>\n",
       "    </tr>\n",
       "  </tbody>\n",
       "</table>\n",
       "</div>"
      ],
      "text/plain": [
       "   Suma  Probabilidad\n",
       "4     2      0.055556\n",
       "0     4      0.166667\n",
       "2     6      0.277778\n",
       "3     8      0.277778\n",
       "1    10      0.166667\n",
       "5    12      0.055556"
      ]
     },
     "execution_count": 33,
     "metadata": {},
     "output_type": "execute_result"
    }
   ],
   "source": [
    "df = pd.DataFrame(y_ley_lista,x_ley_lista)\n",
    "df = df.reset_index()\n",
    "df = df.set_axis(['Suma', 'Probabilidad'], axis=1)\n",
    "df.sort_values('Suma', inplace=True)\n",
    "df"
   ]
  },
  {
   "cell_type": "code",
   "execution_count": 34,
   "id": "6dbb0692",
   "metadata": {},
   "outputs": [],
   "source": [
    "# Calculamos la CDF\n",
    "cdf = np.cumsum(df.Probabilidad)"
   ]
  },
  {
   "cell_type": "code",
   "execution_count": 35,
   "id": "ba8416a6",
   "metadata": {
    "scrolled": false
   },
   "outputs": [
    {
     "data": {
      "image/png": "[encoded data removed]",
      "text/plain": [
       "<Figure size 640x480 with 1 Axes>"
      ]
     },
     "metadata": {},
     "output_type": "display_data"
    }
   ],
   "source": [
    "# Plot the CDF\n",
    "plt.step(df.Suma, cdf, where='post')\n",
    "plt.xlabel('Suma de las caras sea par')\n",
    "plt.ylabel('Cumulative Distribution Function')\n",
    "plt.title('Cumulative Distribution Function (CDF) de Suma de las caras sea par')\n",
    "plt.grid(True)\n",
    "plt.show()"
   ]
  }
 ],
 "metadata": {
  "kernelspec": {
   "display_name": "Python 3 (ipykernel)",
   "language": "python",
   "name": "python3"
  },
  "language_info": {
   "codemirror_mode": {
    "name": "ipython",
    "version": 3
   },
   "file_extension": ".py",
   "mimetype": "text/x-python",
   "name": "python",
   "nbconvert_exporter": "python",
   "pygments_lexer": "ipython3",
   "version": "3.8.13"
  }
 },
 "nbformat": 4,
 "nbformat_minor": 5
}
